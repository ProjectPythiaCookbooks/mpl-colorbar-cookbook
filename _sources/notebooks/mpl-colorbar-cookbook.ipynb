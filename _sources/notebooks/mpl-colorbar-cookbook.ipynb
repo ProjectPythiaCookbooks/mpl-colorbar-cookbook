{
 "cells": [
  {
   "cell_type": "markdown",
   "metadata": {},
   "source": [
    "<div class=row>\n",
    "    <div class=column>\n",
    "        <img src=\"images/ProjectPythia_Logo_Final-01-Blue.svg\" width=150 alt=\"Project Pythia Logo\"></img>\n",
    "    </div>\n",
    "    <div class=column>\n",
    "        <img src=\"images/logos/numpy_logo.svg\" width=250 alt=\"NumPy Logo\"></img>\n",
    "    </div>\n",
    "    <div class=column>\n",
    "        <img src=\"images/logos/xarray_logo.png\" width=250 alt=\"Xarray Logo\"></img>\n",
    "    </div>\n",
    "</div>\n",
    "<div class=row>\n",
    "    <div class=column>\n",
    "        <img src=\"images/logos/cartopy_logo.png\" width=250 alt=\"Cartopy Logo\"></img>\n",
    "    </div>\n",
    "    <div class=column>\n",
    "        <img src=\"images/logos/geocat_logo.svg\" width=300 alt=\"GeoCAT Logo\"></img>\n",
    "    </div>\n",
    "    <div class=column>\n",
    "        <img src=\"images/logos/matplotlib_logo.svg\" width=300 alt=\"Matplotlib Logo\"></img>\n",
    "    </div>"
   ]
  },
  {
   "cell_type": "markdown",
   "metadata": {},
   "source": [
    "# Matplotlib: Consistant Colorbars for Comparisons"
   ]
  },
  {
   "cell_type": "markdown",
   "metadata": {},
   "source": [
    "---"
   ]
  },
  {
   "cell_type": "markdown",
   "metadata": {},
   "source": [
    "## Overview\n",
    "Analyzing data almost always requires comparing datasets, and when done visually, this is a powerful way to communicate changes. However, to do this acurately in color, the colormap used by the datasets must be the same. The colors on each plot must have the same meanings and values assigned to them. This cookbook shows how to:\n",
    "\n",
    "1. create multiple plots but display only one colorbar\n",
    "1. use the same colormap for multiple plots\n",
    "1. choose accessible colormaps and explains best practices when using color\n",
    "1. make custom colormaps (maybe)\n",
    "1. adjust the sizing, shape, etc of colorbars (maybe)"
   ]
  },
  {
   "cell_type": "markdown",
   "metadata": {},
   "source": [
    "## Prerequisites\n",
    "TODO: time to learn, sys requirements\n",
    "| Concepts | Importance | Notes |\n",
    "| --- | --- | --- |\n",
    "| [Intro to Cartopy](https://foundations.projectpythia.org/core/cartopy/cartopy.html) | Helpful | |\n",
    "| [Understanding of NetCDF](https://foundations.projectpythia.org/core/data-formats/netcdf-cf.html) | Helpful | Familiarity with metadata structure |\n",
    "| [Matplotlib Basics](https://foundations.projectpythia.org/core/matplotlib/matplotlib-basics.html#overview) | Necessary | [Contour/Filled Contour Plots](https://foundations.projectpythia.org/core/matplotlib/matplotlib-basics.html#contour-and-filled-contour-plots) |\n",
    "| [Basic Xarray](https://foundations.projectpythia.org/core/xarray/xarray-intro.html#opening-netcdf-data) | Necessary | [Opening netCDF data](https://foundations.projectpythia.org/core/xarray/xarray-intro.html#opening-netcdf-data) |\n",
    "| GeoCAT-viz | Necessary | |\n",
    "\n",
    "- **Time to learn**: estimate in minutes. For a rough idea, use 5 mins per subsection, 10 if longer; add these up for a total. Safer to round up and overestimate.\n",
    "- **System requirements**:\n",
    "    - Populate with any system, version, or non-Python software requirements if necessary\n",
    "    - Otherwise use the concepts table above and the Imports section below to describe required packages as necessary\n",
    "    - If no extra requirements, remove the **System requirements** point altogether"
   ]
  },
  {
   "cell_type": "markdown",
   "metadata": {},
   "source": [
    "---"
   ]
  },
  {
   "cell_type": "markdown",
   "metadata": {},
   "source": [
    "## Imports"
   ]
  },
  {
   "cell_type": "code",
   "execution_count": 1,
   "metadata": {},
   "outputs": [
    {
     "name": "stderr",
     "output_type": "stream",
     "text": [
      "/Users/hcraker/miniconda3/envs/colorbar-cookbook/lib/python3.10/site-packages/geocat/viz/cmaps.py:9: DeprecationWarning: geocat.viz.cmaps is deprecated, use cmaps instead\n",
      "  warnings.warn(\"geocat.viz.cmaps is deprecated, use cmaps instead\",\n"
     ]
    }
   ],
   "source": [
    "import cartopy.crs as ccrs\n",
    "from cartopy.mpl.gridliner import LongitudeFormatter, LatitudeFormatter\n",
    "import matplotlib.pyplot as plt\n",
    "import numpy as np\n",
    "import xarray as xr\n",
    "import cmaps\n",
    "\n",
    "import geocat.datafiles as gdf\n",
    "import geocat.viz as gv\n",
    "\n",
    "%matplotlib inline"
   ]
  },
  {
   "cell_type": "markdown",
   "metadata": {},
   "source": [
    "## Loading in and preprocessing data"
   ]
  },
  {
   "cell_type": "markdown",
   "metadata": {},
   "source": [
    "The data we are using for this example is from the [GeoCAT-datafiles](https://github.com/NCAR/geocat-datafiles) repository on GitHub. The specific file is `TS.cam3.toga_ENS.1950-2000.nc`, and it contains surafce temeprature data from the first run of the CAM3 T85 TOGA model run. We load the data file in using the xarray default engine."
   ]
  },
  {
   "cell_type": "code",
   "execution_count": 2,
   "metadata": {},
   "outputs": [
    {
     "name": "stderr",
     "output_type": "stream",
     "text": [
      "/Users/hcraker/miniconda3/envs/colorbar-cookbook/lib/python3.10/site-packages/xarray/backends/plugins.py:98: DeprecationWarning: SelectableGroups dict interface is deprecated. Use select.\n",
      "  entrypoints = entry_points().get(\"xarray.backends\", ())\n"
     ]
    },
    {
     "data": {
      "text/html": [
       "<div><svg style=\"position: absolute; width: 0; height: 0; overflow: hidden\">\n",
       "<defs>\n",
       "<symbol id=\"icon-database\" viewBox=\"0 0 32 32\">\n",
       "<path d=\"M16 0c-8.837 0-16 2.239-16 5v4c0 2.761 7.163 5 16 5s16-2.239 16-5v-4c0-2.761-7.163-5-16-5z\"></path>\n",
       "<path d=\"M16 17c-8.837 0-16-2.239-16-5v6c0 2.761 7.163 5 16 5s16-2.239 16-5v-6c0 2.761-7.163 5-16 5z\"></path>\n",
       "<path d=\"M16 26c-8.837 0-16-2.239-16-5v6c0 2.761 7.163 5 16 5s16-2.239 16-5v-6c0 2.761-7.163 5-16 5z\"></path>\n",
       "</symbol>\n",
       "<symbol id=\"icon-file-text2\" viewBox=\"0 0 32 32\">\n",
       "<path d=\"M28.681 7.159c-0.694-0.947-1.662-2.053-2.724-3.116s-2.169-2.030-3.116-2.724c-1.612-1.182-2.393-1.319-2.841-1.319h-15.5c-1.378 0-2.5 1.121-2.5 2.5v27c0 1.378 1.122 2.5 2.5 2.5h23c1.378 0 2.5-1.122 2.5-2.5v-19.5c0-0.448-0.137-1.23-1.319-2.841zM24.543 5.457c0.959 0.959 1.712 1.825 2.268 2.543h-4.811v-4.811c0.718 0.556 1.584 1.309 2.543 2.268zM28 29.5c0 0.271-0.229 0.5-0.5 0.5h-23c-0.271 0-0.5-0.229-0.5-0.5v-27c0-0.271 0.229-0.5 0.5-0.5 0 0 15.499-0 15.5 0v7c0 0.552 0.448 1 1 1h7v19.5z\"></path>\n",
       "<path d=\"M23 26h-14c-0.552 0-1-0.448-1-1s0.448-1 1-1h14c0.552 0 1 0.448 1 1s-0.448 1-1 1z\"></path>\n",
       "<path d=\"M23 22h-14c-0.552 0-1-0.448-1-1s0.448-1 1-1h14c0.552 0 1 0.448 1 1s-0.448 1-1 1z\"></path>\n",
       "<path d=\"M23 18h-14c-0.552 0-1-0.448-1-1s0.448-1 1-1h14c0.552 0 1 0.448 1 1s-0.448 1-1 1z\"></path>\n",
       "</symbol>\n",
       "</defs>\n",
       "</svg>\n",
       "<style>/* CSS stylesheet for displaying xarray objects in jupyterlab.\n",
       " *\n",
       " */\n",
       "\n",
       ":root {\n",
       "  --xr-font-color0: var(--jp-content-font-color0, rgba(0, 0, 0, 1));\n",
       "  --xr-font-color2: var(--jp-content-font-color2, rgba(0, 0, 0, 0.54));\n",
       "  --xr-font-color3: var(--jp-content-font-color3, rgba(0, 0, 0, 0.38));\n",
       "  --xr-border-color: var(--jp-border-color2, #e0e0e0);\n",
       "  --xr-disabled-color: var(--jp-layout-color3, #bdbdbd);\n",
       "  --xr-background-color: var(--jp-layout-color0, white);\n",
       "  --xr-background-color-row-even: var(--jp-layout-color1, white);\n",
       "  --xr-background-color-row-odd: var(--jp-layout-color2, #eeeeee);\n",
       "}\n",
       "\n",
       "html[theme=dark],\n",
       "body.vscode-dark {\n",
       "  --xr-font-color0: rgba(255, 255, 255, 1);\n",
       "  --xr-font-color2: rgba(255, 255, 255, 0.54);\n",
       "  --xr-font-color3: rgba(255, 255, 255, 0.38);\n",
       "  --xr-border-color: #1F1F1F;\n",
       "  --xr-disabled-color: #515151;\n",
       "  --xr-background-color: #111111;\n",
       "  --xr-background-color-row-even: #111111;\n",
       "  --xr-background-color-row-odd: #313131;\n",
       "}\n",
       "\n",
       ".xr-wrap {\n",
       "  display: block !important;\n",
       "  min-width: 300px;\n",
       "  max-width: 700px;\n",
       "}\n",
       "\n",
       ".xr-text-repr-fallback {\n",
       "  /* fallback to plain text repr when CSS is not injected (untrusted notebook) */\n",
       "  display: none;\n",
       "}\n",
       "\n",
       ".xr-header {\n",
       "  padding-top: 6px;\n",
       "  padding-bottom: 6px;\n",
       "  margin-bottom: 4px;\n",
       "  border-bottom: solid 1px var(--xr-border-color);\n",
       "}\n",
       "\n",
       ".xr-header > div,\n",
       ".xr-header > ul {\n",
       "  display: inline;\n",
       "  margin-top: 0;\n",
       "  margin-bottom: 0;\n",
       "}\n",
       "\n",
       ".xr-obj-type,\n",
       ".xr-array-name {\n",
       "  margin-left: 2px;\n",
       "  margin-right: 10px;\n",
       "}\n",
       "\n",
       ".xr-obj-type {\n",
       "  color: var(--xr-font-color2);\n",
       "}\n",
       "\n",
       ".xr-sections {\n",
       "  padding-left: 0 !important;\n",
       "  display: grid;\n",
       "  grid-template-columns: 150px auto auto 1fr 20px 20px;\n",
       "}\n",
       "\n",
       ".xr-section-item {\n",
       "  display: contents;\n",
       "}\n",
       "\n",
       ".xr-section-item input {\n",
       "  display: none;\n",
       "}\n",
       "\n",
       ".xr-section-item input + label {\n",
       "  color: var(--xr-disabled-color);\n",
       "}\n",
       "\n",
       ".xr-section-item input:enabled + label {\n",
       "  cursor: pointer;\n",
       "  color: var(--xr-font-color2);\n",
       "}\n",
       "\n",
       ".xr-section-item input:enabled + label:hover {\n",
       "  color: var(--xr-font-color0);\n",
       "}\n",
       "\n",
       ".xr-section-summary {\n",
       "  grid-column: 1;\n",
       "  color: var(--xr-font-color2);\n",
       "  font-weight: 500;\n",
       "}\n",
       "\n",
       ".xr-section-summary > span {\n",
       "  display: inline-block;\n",
       "  padding-left: 0.5em;\n",
       "}\n",
       "\n",
       ".xr-section-summary-in:disabled + label {\n",
       "  color: var(--xr-font-color2);\n",
       "}\n",
       "\n",
       ".xr-section-summary-in + label:before {\n",
       "  display: inline-block;\n",
       "  content: '►';\n",
       "  font-size: 11px;\n",
       "  width: 15px;\n",
       "  text-align: center;\n",
       "}\n",
       "\n",
       ".xr-section-summary-in:disabled + label:before {\n",
       "  color: var(--xr-disabled-color);\n",
       "}\n",
       "\n",
       ".xr-section-summary-in:checked + label:before {\n",
       "  content: '▼';\n",
       "}\n",
       "\n",
       ".xr-section-summary-in:checked + label > span {\n",
       "  display: none;\n",
       "}\n",
       "\n",
       ".xr-section-summary,\n",
       ".xr-section-inline-details {\n",
       "  padding-top: 4px;\n",
       "  padding-bottom: 4px;\n",
       "}\n",
       "\n",
       ".xr-section-inline-details {\n",
       "  grid-column: 2 / -1;\n",
       "}\n",
       "\n",
       ".xr-section-details {\n",
       "  display: none;\n",
       "  grid-column: 1 / -1;\n",
       "  margin-bottom: 5px;\n",
       "}\n",
       "\n",
       ".xr-section-summary-in:checked ~ .xr-section-details {\n",
       "  display: contents;\n",
       "}\n",
       "\n",
       ".xr-array-wrap {\n",
       "  grid-column: 1 / -1;\n",
       "  display: grid;\n",
       "  grid-template-columns: 20px auto;\n",
       "}\n",
       "\n",
       ".xr-array-wrap > label {\n",
       "  grid-column: 1;\n",
       "  vertical-align: top;\n",
       "}\n",
       "\n",
       ".xr-preview {\n",
       "  color: var(--xr-font-color3);\n",
       "}\n",
       "\n",
       ".xr-array-preview,\n",
       ".xr-array-data {\n",
       "  padding: 0 5px !important;\n",
       "  grid-column: 2;\n",
       "}\n",
       "\n",
       ".xr-array-data,\n",
       ".xr-array-in:checked ~ .xr-array-preview {\n",
       "  display: none;\n",
       "}\n",
       "\n",
       ".xr-array-in:checked ~ .xr-array-data,\n",
       ".xr-array-preview {\n",
       "  display: inline-block;\n",
       "}\n",
       "\n",
       ".xr-dim-list {\n",
       "  display: inline-block !important;\n",
       "  list-style: none;\n",
       "  padding: 0 !important;\n",
       "  margin: 0;\n",
       "}\n",
       "\n",
       ".xr-dim-list li {\n",
       "  display: inline-block;\n",
       "  padding: 0;\n",
       "  margin: 0;\n",
       "}\n",
       "\n",
       ".xr-dim-list:before {\n",
       "  content: '(';\n",
       "}\n",
       "\n",
       ".xr-dim-list:after {\n",
       "  content: ')';\n",
       "}\n",
       "\n",
       ".xr-dim-list li:not(:last-child):after {\n",
       "  content: ',';\n",
       "  padding-right: 5px;\n",
       "}\n",
       "\n",
       ".xr-has-index {\n",
       "  font-weight: bold;\n",
       "}\n",
       "\n",
       ".xr-var-list,\n",
       ".xr-var-item {\n",
       "  display: contents;\n",
       "}\n",
       "\n",
       ".xr-var-item > div,\n",
       ".xr-var-item label,\n",
       ".xr-var-item > .xr-var-name span {\n",
       "  background-color: var(--xr-background-color-row-even);\n",
       "  margin-bottom: 0;\n",
       "}\n",
       "\n",
       ".xr-var-item > .xr-var-name:hover span {\n",
       "  padding-right: 5px;\n",
       "}\n",
       "\n",
       ".xr-var-list > li:nth-child(odd) > div,\n",
       ".xr-var-list > li:nth-child(odd) > label,\n",
       ".xr-var-list > li:nth-child(odd) > .xr-var-name span {\n",
       "  background-color: var(--xr-background-color-row-odd);\n",
       "}\n",
       "\n",
       ".xr-var-name {\n",
       "  grid-column: 1;\n",
       "}\n",
       "\n",
       ".xr-var-dims {\n",
       "  grid-column: 2;\n",
       "}\n",
       "\n",
       ".xr-var-dtype {\n",
       "  grid-column: 3;\n",
       "  text-align: right;\n",
       "  color: var(--xr-font-color2);\n",
       "}\n",
       "\n",
       ".xr-var-preview {\n",
       "  grid-column: 4;\n",
       "}\n",
       "\n",
       ".xr-var-name,\n",
       ".xr-var-dims,\n",
       ".xr-var-dtype,\n",
       ".xr-preview,\n",
       ".xr-attrs dt {\n",
       "  white-space: nowrap;\n",
       "  overflow: hidden;\n",
       "  text-overflow: ellipsis;\n",
       "  padding-right: 10px;\n",
       "}\n",
       "\n",
       ".xr-var-name:hover,\n",
       ".xr-var-dims:hover,\n",
       ".xr-var-dtype:hover,\n",
       ".xr-attrs dt:hover {\n",
       "  overflow: visible;\n",
       "  width: auto;\n",
       "  z-index: 1;\n",
       "}\n",
       "\n",
       ".xr-var-attrs,\n",
       ".xr-var-data {\n",
       "  display: none;\n",
       "  background-color: var(--xr-background-color) !important;\n",
       "  padding-bottom: 5px !important;\n",
       "}\n",
       "\n",
       ".xr-var-attrs-in:checked ~ .xr-var-attrs,\n",
       ".xr-var-data-in:checked ~ .xr-var-data {\n",
       "  display: block;\n",
       "}\n",
       "\n",
       ".xr-var-data > table {\n",
       "  float: right;\n",
       "}\n",
       "\n",
       ".xr-var-name span,\n",
       ".xr-var-data,\n",
       ".xr-attrs {\n",
       "  padding-left: 25px !important;\n",
       "}\n",
       "\n",
       ".xr-attrs,\n",
       ".xr-var-attrs,\n",
       ".xr-var-data {\n",
       "  grid-column: 1 / -1;\n",
       "}\n",
       "\n",
       "dl.xr-attrs {\n",
       "  padding: 0;\n",
       "  margin: 0;\n",
       "  display: grid;\n",
       "  grid-template-columns: 125px auto;\n",
       "}\n",
       "\n",
       ".xr-attrs dt,\n",
       ".xr-attrs dd {\n",
       "  padding: 0;\n",
       "  margin: 0;\n",
       "  float: left;\n",
       "  padding-right: 10px;\n",
       "  width: auto;\n",
       "}\n",
       "\n",
       ".xr-attrs dt {\n",
       "  font-weight: normal;\n",
       "  grid-column: 1;\n",
       "}\n",
       "\n",
       ".xr-attrs dt:hover span {\n",
       "  display: inline-block;\n",
       "  background: var(--xr-background-color);\n",
       "  padding-right: 10px;\n",
       "}\n",
       "\n",
       ".xr-attrs dd {\n",
       "  grid-column: 2;\n",
       "  white-space: pre-wrap;\n",
       "  word-break: break-all;\n",
       "}\n",
       "\n",
       ".xr-icon-database,\n",
       ".xr-icon-file-text2 {\n",
       "  display: inline-block;\n",
       "  vertical-align: middle;\n",
       "  width: 1em;\n",
       "  height: 1.5em !important;\n",
       "  stroke-width: 0;\n",
       "  stroke: currentColor;\n",
       "  fill: currentColor;\n",
       "}\n",
       "</style><pre class='xr-text-repr-fallback'>&lt;xarray.Dataset&gt;\n",
       "Dimensions:  (time: 612, lat: 128, lon: 256)\n",
       "Coordinates:\n",
       "  * time     (time) object 1950-02-01 00:00:00 ... 2001-01-01 00:00:00\n",
       "  * lat      (lat) float64 -88.93 -87.54 -86.14 -84.74 ... 86.14 87.54 88.93\n",
       "  * lon      (lon) float64 0.0 1.406 2.812 4.219 ... 354.4 355.8 357.2 358.6\n",
       "Data variables:\n",
       "    TS       (time, lat, lon) float32 ...\n",
       "Attributes:\n",
       "    title:          CAM3 T85 TOGA Run #1 (eul128x256_d63vamip_trpsst_01), run...\n",
       "    source_mss:     /BRUCEB/csm/eul128x256_d63vamip_trpsst_01/atm/hist/\n",
       "    source:         /home/asphilli/DSets/t85toga.vartscreate.ncl\n",
       "    creation_date:  Mon Jan 31 14:34:17 MST 2005\n",
       "    history:        Fri Aug  5 13:31:09 2005: ncea CAM3TOGA01/TS.cam3.toga_01...</pre><div class='xr-wrap' style='display:none'><div class='xr-header'><div class='xr-obj-type'>xarray.Dataset</div></div><ul class='xr-sections'><li class='xr-section-item'><input id='section-6c4c4b87-5a36-4ca6-9945-0035d23f0ac7' class='xr-section-summary-in' type='checkbox' disabled ><label for='section-6c4c4b87-5a36-4ca6-9945-0035d23f0ac7' class='xr-section-summary'  title='Expand/collapse section'>Dimensions:</label><div class='xr-section-inline-details'><ul class='xr-dim-list'><li><span class='xr-has-index'>time</span>: 612</li><li><span class='xr-has-index'>lat</span>: 128</li><li><span class='xr-has-index'>lon</span>: 256</li></ul></div><div class='xr-section-details'></div></li><li class='xr-section-item'><input id='section-42e797ff-149b-44f3-aa84-128c9ded2625' class='xr-section-summary-in' type='checkbox'  checked><label for='section-42e797ff-149b-44f3-aa84-128c9ded2625' class='xr-section-summary' >Coordinates: <span>(3)</span></label><div class='xr-section-inline-details'></div><div class='xr-section-details'><ul class='xr-var-list'><li class='xr-var-item'><div class='xr-var-name'><span class='xr-has-index'>time</span></div><div class='xr-var-dims'>(time)</div><div class='xr-var-dtype'>object</div><div class='xr-var-preview xr-preview'>1950-02-01 00:00:00 ... 2001-01-...</div><input id='attrs-7f5c9fe5-4523-45c5-89ac-106124e412e3' class='xr-var-attrs-in' type='checkbox' ><label for='attrs-7f5c9fe5-4523-45c5-89ac-106124e412e3' title='Show/Hide attributes'><svg class='icon xr-icon-file-text2'><use xlink:href='#icon-file-text2'></use></svg></label><input id='data-a029b58f-c282-4687-a98b-f6e8fff3b731' class='xr-var-data-in' type='checkbox'><label for='data-a029b58f-c282-4687-a98b-f6e8fff3b731' title='Show/Hide data repr'><svg class='icon xr-icon-database'><use xlink:href='#icon-database'></use></svg></label><div class='xr-var-attrs'><dl class='xr-attrs'><dt><span>bounds :</span></dt><dd>time_bnds</dd><dt><span>long_name :</span></dt><dd>time</dd></dl></div><div class='xr-var-data'><pre>array([cftime.DatetimeNoLeap(1950, 2, 1, 0, 0, 0, 0, has_year_zero=True),\n",
       "       cftime.DatetimeNoLeap(1950, 3, 1, 0, 0, 0, 0, has_year_zero=True),\n",
       "       cftime.DatetimeNoLeap(1950, 4, 1, 0, 0, 0, 0, has_year_zero=True), ...,\n",
       "       cftime.DatetimeNoLeap(2000, 11, 1, 0, 0, 0, 0, has_year_zero=True),\n",
       "       cftime.DatetimeNoLeap(2000, 12, 1, 0, 0, 0, 0, has_year_zero=True),\n",
       "       cftime.DatetimeNoLeap(2001, 1, 1, 0, 0, 0, 0, has_year_zero=True)],\n",
       "      dtype=object)</pre></div></li><li class='xr-var-item'><div class='xr-var-name'><span class='xr-has-index'>lat</span></div><div class='xr-var-dims'>(lat)</div><div class='xr-var-dtype'>float64</div><div class='xr-var-preview xr-preview'>-88.93 -87.54 ... 87.54 88.93</div><input id='attrs-9d37f1d6-0f72-4667-b39b-fe59a06f2bd4' class='xr-var-attrs-in' type='checkbox' ><label for='attrs-9d37f1d6-0f72-4667-b39b-fe59a06f2bd4' title='Show/Hide attributes'><svg class='icon xr-icon-file-text2'><use xlink:href='#icon-file-text2'></use></svg></label><input id='data-dc3917aa-2be9-46b7-8265-126b3b94760b' class='xr-var-data-in' type='checkbox'><label for='data-dc3917aa-2be9-46b7-8265-126b3b94760b' title='Show/Hide data repr'><svg class='icon xr-icon-database'><use xlink:href='#icon-database'></use></svg></label><div class='xr-var-attrs'><dl class='xr-attrs'><dt><span>units :</span></dt><dd>degrees_north</dd><dt><span>long_name :</span></dt><dd>latitude</dd></dl></div><div class='xr-var-data'><pre>array([-88.927735, -87.538705, -86.141472, -84.742386, -83.342596, -81.942466,\n",
       "       -80.542146, -79.14171 , -77.741196, -76.340629, -74.940023, -73.539389,\n",
       "       -72.138732, -70.738059, -69.337372, -67.936673, -66.535966, -65.135251,\n",
       "       -63.73453 , -62.333803, -60.933072, -59.532337, -58.131598, -56.730857,\n",
       "       -55.330112, -53.929366, -52.528617, -51.127867, -49.727115, -48.326361,\n",
       "       -46.925606, -45.52485 , -44.124093, -42.723335, -41.322576, -39.921816,\n",
       "       -38.521056, -37.120294, -35.719532, -34.31877 , -32.918007, -31.517244,\n",
       "       -30.11648 , -28.715716, -27.314951, -25.914186, -24.513421, -23.112655,\n",
       "       -21.71189 , -20.311124, -18.910357, -17.509591, -16.108824, -14.708057,\n",
       "       -13.30729 , -11.906523, -10.505756,  -9.104989,  -7.704221,  -6.303454,\n",
       "        -4.902687,  -3.501919,  -2.101151,  -0.700384,   0.700384,   2.101151,\n",
       "         3.501919,   4.902687,   6.303454,   7.704221,   9.104989,  10.505756,\n",
       "        11.906523,  13.30729 ,  14.708057,  16.108824,  17.509591,  18.910357,\n",
       "        20.311124,  21.71189 ,  23.112655,  24.513421,  25.914186,  27.314951,\n",
       "        28.715716,  30.11648 ,  31.517244,  32.918007,  34.31877 ,  35.719532,\n",
       "        37.120294,  38.521056,  39.921816,  41.322576,  42.723335,  44.124093,\n",
       "        45.52485 ,  46.925606,  48.326361,  49.727115,  51.127867,  52.528617,\n",
       "        53.929366,  55.330112,  56.730857,  58.131598,  59.532337,  60.933072,\n",
       "        62.333803,  63.73453 ,  65.135251,  66.535966,  67.936673,  69.337372,\n",
       "        70.738059,  72.138732,  73.539389,  74.940023,  76.340629,  77.741196,\n",
       "        79.14171 ,  80.542146,  81.942466,  83.342596,  84.742386,  86.141472,\n",
       "        87.538705,  88.927735])</pre></div></li><li class='xr-var-item'><div class='xr-var-name'><span class='xr-has-index'>lon</span></div><div class='xr-var-dims'>(lon)</div><div class='xr-var-dtype'>float64</div><div class='xr-var-preview xr-preview'>0.0 1.406 2.812 ... 357.2 358.6</div><input id='attrs-5669105e-c92b-4890-a47e-3e83c3a2972b' class='xr-var-attrs-in' type='checkbox' ><label for='attrs-5669105e-c92b-4890-a47e-3e83c3a2972b' title='Show/Hide attributes'><svg class='icon xr-icon-file-text2'><use xlink:href='#icon-file-text2'></use></svg></label><input id='data-cf972a18-3eb6-46a5-884d-276b3dd14fbf' class='xr-var-data-in' type='checkbox'><label for='data-cf972a18-3eb6-46a5-884d-276b3dd14fbf' title='Show/Hide data repr'><svg class='icon xr-icon-database'><use xlink:href='#icon-database'></use></svg></label><div class='xr-var-attrs'><dl class='xr-attrs'><dt><span>units :</span></dt><dd>degrees_east</dd><dt><span>long_name :</span></dt><dd>longitude</dd></dl></div><div class='xr-var-data'><pre>array([  0.     ,   1.40625,   2.8125 , ..., 355.78125, 357.1875 , 358.59375])</pre></div></li></ul></div></li><li class='xr-section-item'><input id='section-8ffcf8a8-cd29-4578-b3dd-482b5df81ffd' class='xr-section-summary-in' type='checkbox'  checked><label for='section-8ffcf8a8-cd29-4578-b3dd-482b5df81ffd' class='xr-section-summary' >Data variables: <span>(1)</span></label><div class='xr-section-inline-details'></div><div class='xr-section-details'><ul class='xr-var-list'><li class='xr-var-item'><div class='xr-var-name'><span>TS</span></div><div class='xr-var-dims'>(time, lat, lon)</div><div class='xr-var-dtype'>float32</div><div class='xr-var-preview xr-preview'>...</div><input id='attrs-44008d92-b864-48b5-b900-256fec5a517c' class='xr-var-attrs-in' type='checkbox' ><label for='attrs-44008d92-b864-48b5-b900-256fec5a517c' title='Show/Hide attributes'><svg class='icon xr-icon-file-text2'><use xlink:href='#icon-file-text2'></use></svg></label><input id='data-cae69808-6c18-4f57-ab3f-0fb39eac98e7' class='xr-var-data-in' type='checkbox'><label for='data-cae69808-6c18-4f57-ab3f-0fb39eac98e7' title='Show/Hide data repr'><svg class='icon xr-icon-database'><use xlink:href='#icon-database'></use></svg></label><div class='xr-var-attrs'><dl class='xr-attrs'><dt><span>units :</span></dt><dd>K</dd><dt><span>long_name :</span></dt><dd>Surface temperature (radiative)</dd><dt><span>cell_method :</span></dt><dd>time: mean</dd></dl></div><div class='xr-var-data'><pre>[20054016 values with dtype=float32]</pre></div></li></ul></div></li><li class='xr-section-item'><input id='section-2c2b29a6-a266-4bb9-adbe-aebb46dab889' class='xr-section-summary-in' type='checkbox'  checked><label for='section-2c2b29a6-a266-4bb9-adbe-aebb46dab889' class='xr-section-summary' >Attributes: <span>(5)</span></label><div class='xr-section-inline-details'></div><div class='xr-section-details'><dl class='xr-attrs'><dt><span>title :</span></dt><dd>CAM3 T85 TOGA Run #1 (eul128x256_d63vamip_trpsst_01), run by Bruce Briegleb</dd><dt><span>source_mss :</span></dt><dd>/BRUCEB/csm/eul128x256_d63vamip_trpsst_01/atm/hist/</dd><dt><span>source :</span></dt><dd>/home/asphilli/DSets/t85toga.vartscreate.ncl</dd><dt><span>creation_date :</span></dt><dd>Mon Jan 31 14:34:17 MST 2005</dd><dt><span>history :</span></dt><dd>Fri Aug  5 13:31:09 2005: ncea CAM3TOGA01/TS.cam3.toga_01.1950-2000.nc CAM3TOGA02/TS.cam3.toga_02.1950-2000.nc CAM3TOGA03/TS.cam3.toga_03.1950-2000.nc CAM3TOGA04/TS.cam3.toga_04.1950-2000.nc CAM3TOGA05/TS.cam3.toga_05.1950-2000.nc CAM3TOGAENS/TS.cam3.toga_ENS.1950-2000.nc</dd></dl></div></li></ul></div></div>"
      ],
      "text/plain": [
       "<xarray.Dataset>\n",
       "Dimensions:  (time: 612, lat: 128, lon: 256)\n",
       "Coordinates:\n",
       "  * time     (time) object 1950-02-01 00:00:00 ... 2001-01-01 00:00:00\n",
       "  * lat      (lat) float64 -88.93 -87.54 -86.14 -84.74 ... 86.14 87.54 88.93\n",
       "  * lon      (lon) float64 0.0 1.406 2.812 4.219 ... 354.4 355.8 357.2 358.6\n",
       "Data variables:\n",
       "    TS       (time, lat, lon) float32 ...\n",
       "Attributes:\n",
       "    title:          CAM3 T85 TOGA Run #1 (eul128x256_d63vamip_trpsst_01), run...\n",
       "    source_mss:     /BRUCEB/csm/eul128x256_d63vamip_trpsst_01/atm/hist/\n",
       "    source:         /home/asphilli/DSets/t85toga.vartscreate.ncl\n",
       "    creation_date:  Mon Jan 31 14:34:17 MST 2005\n",
       "    history:        Fri Aug  5 13:31:09 2005: ncea CAM3TOGA01/TS.cam3.toga_01..."
      ]
     },
     "execution_count": 2,
     "metadata": {},
     "output_type": "execute_result"
    }
   ],
   "source": [
    "ds = xr.open_dataset(gdf.get(\"netcdf_files/TS.cam3.toga_ENS.1950-2000.nc\"),)\n",
    "ds"
   ]
  },
  {
   "cell_type": "markdown",
   "metadata": {},
   "source": [
    "The file has data from different timesteps of the model. Say we want to plot temperature data from two different timesteps and compare them visually. To see the biggest change, let's choose a timestep from February and one from August in the same year. We also need to select the variable of interest which is `TS` for surface temperature.\n",
    "\n",
    "To create the colorbar, we'll need to know what the minimum and maximum temperatures are. We find those here as well."
   ]
  },
  {
   "cell_type": "code",
   "execution_count": 3,
   "metadata": {},
   "outputs": [],
   "source": [
    "first_step = ds.isel(time=0).TS\n",
    "last_step = ds.isel(time=6).TS\n",
    "min_val = np.floor(min([first_step.min(), last_step.min()]).values)\n",
    "max_val = np.ceil(max([first_step.max(), last_step.max()]).values)"
   ]
  },
  {
   "cell_type": "markdown",
   "metadata": {},
   "source": [
    "## Making the Plot\n",
    "Due to Jupyter Notebook limitations, the entire plot must be made in the same block. These are the general steps:\n",
    "\n",
    "### Create the figure\n",
    "\n",
    "We are using `matplotlib` and `cartopy` to make two plots on the same figure. We need to create the figure and specify our map projection before we can create the two subplots.\n",
    "\n",
    "### Format and populate subplots\n",
    "\n",
    "Once that's done, we need to format and populate the subplots. The for loop below ensures that both sets of axes are created with the same specifications. Most importantly, it makes sure that both plots are drawn with the same `levels` keyword for `contourf`. This keyword is what specifies how the colors are assigned to values. As long as `levels` is the same between contour plots, the images will be useful for making accurate comparisions.\n",
    "\n",
    "### Making the colorbar\n",
    "\n",
    "`contourf` returns a `QuadContourSet` object. This holds the information about how colors are assigned to values and where the contours are drawn. Since both plots were made with the same parameters, the returned objects are identical. Either can be passed into `plt.colorbar`.\n",
    "\n",
    "To make the colorbar appear below both plots, the `ax` parameter must be set to the lower axes `ax2`. Then `orientation` is set to `'horizontal'`. Additional [keyword arguments](https://matplotlib.org/stable/api/_as_gen/matplotlib.pyplot.colorbar.html#matplotlib.pyplot.colorbar) can be passed in to `plt.colorbar` to further customize its appearance."
   ]
  },
  {
   "cell_type": "code",
   "execution_count": 4,
   "metadata": {},
   "outputs": [
    {
     "data": {
      "image/png": "[encoded data removed]",
      "text/plain": [
       "<Figure size 1728x576 with 3 Axes>"
      ]
     },
     "metadata": {
      "needs_background": "light"
     },
     "output_type": "display_data"
    }
   ],
   "source": [
    "fig = plt.figure(figsize=(24, 8), constrained_layout=True)\n",
    "proj = ccrs.PlateCarree()\n",
    "ax1 = fig.add_subplot(2,1,1, projection=proj)\n",
    "ax2 = fig.add_subplot(2,1,2, projection=proj)\n",
    "\n",
    "for ax, data in [[ax1, first_step], [ax2, last_step]]:\n",
    "    # Use geocat.viz.util convenience function to set axes tick values\n",
    "    gv.set_axes_limits_and_ticks(ax=ax,\n",
    "                                 xlim=(-180, 180),\n",
    "                                 ylim=(-90, 90),\n",
    "                                 xticks=np.linspace(-180, 180, 13),\n",
    "                                 yticks=np.linspace(-90, 90, 7))\n",
    "\n",
    "    # Use geocat.viz.util convenience function to make plots look like NCL\n",
    "    # plots by using latitude, longitude tick labels\n",
    "    gv.add_lat_lon_ticklabels(ax)\n",
    "\n",
    "    # Remove the degree symbol from tick labels\n",
    "    ax.yaxis.set_major_formatter(LatitudeFormatter(degree_symbol=''))\n",
    "    ax.xaxis.set_major_formatter(LongitudeFormatter(degree_symbol=''))\n",
    "\n",
    "    # Use geocat.viz.util convenience function to add minor and major ticks\n",
    "    gv.add_major_minor_ticks(ax)\n",
    "\n",
    "    # Draw coastlines\n",
    "    ax.coastlines(linewidth=0.5)\n",
    "\n",
    "    # Use geocat.viz.util convenience function to set titles\n",
    "    gv.set_titles_and_labels(ax,\n",
    "                             maintitle=data.time.values,\n",
    "                             lefttitle='TS',\n",
    "                             righttitle='K',\n",
    "                             maintitlefontsize=12,\n",
    "                             lefttitlefontsize=10,\n",
    "                             righttitlefontsize=10)\n",
    "    mappable = ax.contourf(data['lon'], data['lat'], data.data, cmap='inferno', levels=np.linspace(min_val, max_val, 10))\n",
    "    \n",
    "cbar = fig.colorbar(mappable, ax=ax2, orientation='horizontal', aspect=13)"
   ]
  },
  {
   "cell_type": "markdown",
   "metadata": {},
   "source": [
    "## Last Section\n",
    "\n",
    "If you're comfortable, and as we briefly used for our embedded logo up top, you can embed raw html into Jupyter Markdown cells (edit to see):"
   ]
  },
  {
   "cell_type": "markdown",
   "metadata": {},
   "source": [
    "<div class=\"admonition alert alert-info\">\n",
    "    <p class=\"admonition-title\" style=\"font-weight:bold\">Info</p>\n",
    "    Your relevant information here!\n",
    "</div>"
   ]
  },
  {
   "cell_type": "markdown",
   "metadata": {},
   "source": [
    "Feel free to copy this around and edit or play around with yourself. Some other `admonitions` you can put in:"
   ]
  },
  {
   "cell_type": "markdown",
   "metadata": {},
   "source": [
    "<div class=\"admonition alert alert-success\">\n",
    "    <p class=\"admonition-title\" style=\"font-weight:bold\">Success</p>\n",
    "    We got this done after all!\n",
    "</div>"
   ]
  },
  {
   "cell_type": "markdown",
   "metadata": {},
   "source": [
    "<div class=\"admonition alert alert-warning\">\n",
    "    <p class=\"admonition-title\" style=\"font-weight:bold\">Warning</p>\n",
    "    Be careful!\n",
    "</div>"
   ]
  },
  {
   "cell_type": "markdown",
   "metadata": {},
   "source": [
    "<div class=\"admonition alert alert-danger\">\n",
    "    <p class=\"admonition-title\" style=\"font-weight:bold\">Danger</p>\n",
    "    Scary stuff be here.\n",
    "</div>"
   ]
  },
  {
   "cell_type": "markdown",
   "metadata": {},
   "source": [
    "We also suggest checking out Jupyter Book's [brief demonstration](https://jupyterbook.org/content/metadata.html#jupyter-cell-tags) on adding cell tags to your cells in Jupyter Notebook, Lab, or manually. Using these cell tags can allow you to [customize](https://jupyterbook.org/interactive/hiding.html) how your code content is displayed and even [demonstrate errors](https://jupyterbook.org/content/execute.html#dealing-with-code-that-raises-errors) without altogether crashing our loyal army of machines!"
   ]
  },
  {
   "cell_type": "markdown",
   "metadata": {},
   "source": [
    "---"
   ]
  },
  {
   "cell_type": "markdown",
   "metadata": {},
   "source": [
    "## Summary\n",
    "Add one final `---` marking the end of your body of content, and then conclude with a brief single paragraph summarizing at a high level the key pieces that were learned and how they tied to your objectives. Look to reiterate what the most important takeaways were.\n",
    "\n",
    "### What's next?\n",
    "Let Jupyter book tie this to the next (sequential) piece of content that people could move on to down below and in the sidebar. However, if this page uniquely enables your reader to tackle other nonsequential concepts throughout this book, or even external content, link to it here!"
   ]
  },
  {
   "cell_type": "markdown",
   "metadata": {},
   "source": [
    "## Resources and references\n",
    "Finally, be rigorous in your citations and references as necessary. Give credit where credit is due. Also, feel free to link to relevant external material, further reading, documentation, etc. Then you're done! Give yourself a quick review, a high five, and send us a pull request. A few final notes:\n",
    " - `Kernel > Restart Kernel and Run All Cells...` to confirm that your notebook will cleanly run from start to finish\n",
    " - `Kernel > Restart Kernel and Clear All Outputs...` before committing your notebook, our machines will do the heavy lifting\n",
    " - Take credit! Provide author contact information if you'd like; if so, consider adding information here at the bottom of your notebook\n",
    " - Give credit! Attribute appropriate authorship for referenced code, information, images, etc.\n",
    " - Only include what you're legally allowed: **no copyright infringement or plagiarism**\n",
    " \n",
    "Thank you for your contribution!\n",
    "\n",
    "\n",
    "Visualization & Analysis Systems Technologies. (2020). Geoscience Community Analysis Toolkit: GeoCAT-datafiles [Software]. Boulder, CO: UCAR/NCAR - Computational and Informational System Lab. [doi:10.5281/zenodo.6684782](doi:10.5281/zenodo.6684782)."
   ]
  },
  {
   "cell_type": "code",
   "execution_count": null,
   "metadata": {},
   "outputs": [],
   "source": []
  }
 ],
 "metadata": {
  "kernelspec": {
   "display_name": "Python 3 (ipykernel)",
   "language": "python",
   "name": "python3"
  },
  "language_info": {
   "codemirror_mode": {
    "name": "ipython",
    "version": 3
   },
   "file_extension": ".py",
   "mimetype": "text/x-python",
   "name": "python",
   "nbconvert_exporter": "python",
   "pygments_lexer": "ipython3",
   "version": "3.10.5"
  },
  "nbdime-conflicts": {
   "local_diff": [
    {
     "diff": [
      {
       "diff": [
        {
         "key": 0,
         "op": "addrange",
         "valuelist": [
          "Python 3"
         ]
        },
        {
         "key": 0,
         "length": 1,
         "op": "removerange"
        }
       ],
       "key": "display_name",
       "op": "patch"
      }
     ],
     "key": "kernelspec",
     "op": "patch"
    }
   ],
   "remote_diff": [
    {
     "diff": [
      {
       "diff": [
        {
         "key": 0,
         "op": "addrange",
         "valuelist": [
          "Python3"
         ]
        },
        {
         "key": 0,
         "length": 1,
         "op": "removerange"
        }
       ],
       "key": "display_name",
       "op": "patch"
      }
     ],
     "key": "kernelspec",
     "op": "patch"
    }
   ]
  },
  "toc-autonumbering": false
 },
 "nbformat": 4,
 "nbformat_minor": 4
}
