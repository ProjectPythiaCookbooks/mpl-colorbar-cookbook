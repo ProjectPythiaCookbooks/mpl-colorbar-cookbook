{
 "cells": [
  {
   "cell_type": "markdown",
   "metadata": {},
   "source": [
    "<div class=row>\n",
    "    <div class=column>\n",
    "        <img src=\"images/ProjectPythia_Logo_Final-01-Blue.svg\" width=150 alt=\"Project Pythia Logo\"></img>\n",
    "    </div>\n",
    "    <div class=column>\n",
    "        <img src=\"images/logos/numpy_logo.svg\" width=250 alt=\"NumPy Logo\"></img>\n",
    "    </div>\n",
    "    <div class=column>\n",
    "        <img src=\"images/logos/xarray_logo.png\" width=250 alt=\"Xarray Logo\"></img>\n",
    "    </div>\n",
    "</div>\n",
    "<div class=row>\n",
    "    <div class=column>\n",
    "        <img src=\"images/logos/cartopy_logo.png\" width=250 alt=\"Cartopy Logo\"></img>\n",
    "    </div>\n",
    "    <div class=column>\n",
    "        <img src=\"images/logos/geocat_logo.svg\" width=300 alt=\"GeoCAT Logo\"></img>\n",
    "    </div>\n",
    "    <div class=column>\n",
    "        <img src=\"images/logos/matplotlib_logo.svg\" width=300 alt=\"Matplotlib Logo\"></img>\n",
    "    </div>"
   ]
  },
  {
   "cell_type": "markdown",
   "metadata": {},
   "source": [
    "# Matplotlib: Consistant Colorbars for Comparisons"
   ]
  },
  {
   "cell_type": "markdown",
   "metadata": {},
   "source": [
    "---"
   ]
  },
  {
   "cell_type": "markdown",
   "metadata": {},
   "source": [
    "## Overview\n",
    "Analyzing data almost always requires comparing datasets, and when done visually, this is a powerful way to communicate changes. However, to do this acurately in color, the colormap used by the datasets must be the same. The colors on each plot must have the same meanings and values assigned to them. This cookbook shows how to:\n",
    "\n",
    "1. create multiple plots but display only one colorbar\n",
    "1. use the same colormap for multiple plots\n",
    "1. choose accessible colormaps and explains best practices when using color\n",
    "1. make custom colormaps (maybe)\n",
    "1. adjust the sizing, shape, etc of colorbars (maybe)"
   ]
  },
  {
   "cell_type": "markdown",
   "metadata": {},
   "source": [
    "## Prerequisites\n",
    "\n",
    "| Concepts | Importance | Notes |\n",
    "| --- | --- | --- |\n",
    "| [Intro to Cartopy](https://foundations.projectpythia.org/core/cartopy/cartopy.html) | Helpful | |\n",
    "| [Understanding of NetCDF](https://foundations.projectpythia.org/core/data-formats/netcdf-cf.html) | Helpful | Familiarity with metadata structure |\n",
    "| [Matplotlib Basics](https://foundations.projectpythia.org/core/matplotlib/matplotlib-basics.html#overview) | Necessary | [Contour/Filled Contour Plots](https://foundations.projectpythia.org/core/matplotlib/matplotlib-basics.html#contour-and-filled-contour-plots) |\n",
    "| [Basic Xarray](https://foundations.projectpythia.org/core/xarray/xarray-intro.html#opening-netcdf-data) | Necessary | [Opening netCDF data](https://foundations.projectpythia.org/core/xarray/xarray-intro.html#opening-netcdf-data) |\n",
    "| GeoCAT-viz | Necessary | |\n",
    "\n",
    "- **Time to learn**: estimate in minutes. For a rough idea, use 5 mins per subsection, 10 if longer; add these up for a total. Safer to round up and overestimate.\n",
    "- **System requirements**:\n",
    "    - Populate with any system, version, or non-Python software requirements if necessary\n",
    "    - Otherwise use the concepts table above and the Imports section below to describe required packages as necessary\n",
    "    - If no extra requirements, remove the **System requirements** point altogether"
   ]
  },
  {
   "cell_type": "markdown",
   "metadata": {},
   "source": [
    "---"
   ]
  },
  {
   "cell_type": "markdown",
   "metadata": {},
   "source": [
    "## Imports"
   ]
  },
  {
   "cell_type": "code",
   "execution_count": null,
   "metadata": {},
   "outputs": [],
   "source": [
    "import cartopy.crs as ccrs\n",
    "from cartopy.mpl.gridliner import LongitudeFormatter, LatitudeFormatter\n",
    "from cartopy.mpl.geoaxes import GeoAxesSubplot\n",
    "import matplotlib.pyplot as plt\n",
    "import matplotlib.gridspec as gridspec\n",
    "import numpy as np\n",
    "import xarray as xr\n",
    "import cmaps\n",
    "\n",
    "import geocat.datafiles as gdf\n",
    "import geocat.viz as gv\n",
    "\n",
    "%matplotlib inline"
   ]
  },
  {
   "cell_type": "markdown",
   "metadata": {},
   "source": [
    "## Loading in and preprocessing data"
   ]
  },
  {
   "cell_type": "markdown",
   "metadata": {},
   "source": [
    "The data we are using for this example is from the [GeoCAT-datafiles](https://github.com/NCAR/geocat-datafiles) repository on GitHub. The specific file is `TS.cam3.toga_ENS.1950-2000.nc`, and it contains surafce temeprature data from the first run of the CAM3 T85 TOGA model run. We load the data file in using the xarray default engine."
   ]
  },
  {
   "cell_type": "code",
   "execution_count": null,
   "metadata": {},
   "outputs": [],
   "source": [
    "ds = xr.open_dataset(gdf.get(\"netcdf_files/TS.cam3.toga_ENS.1950-2000.nc\"),)\n",
    "ds"
   ]
  },
  {
   "cell_type": "markdown",
   "metadata": {},
   "source": [
    "The file has data from different timesteps of the model. Say we want to plot temperature data from two different timesteps and compare them visually. To see the biggest change, let's choose a timestep from February and one from August in the same year. We also need to select the variable of interest which is `TS` for surface temperature.\n",
    "\n",
    "To create the colorbar, we'll need to know what the minimum and maximum temperatures are. We find those here as well."
   ]
  },
  {
   "cell_type": "code",
   "execution_count": null,
   "metadata": {},
   "outputs": [],
   "source": [
    "first_step = ds.isel(time=0).TS\n",
    "last_step = ds.isel(time=6).TS\n",
    "min_val = np.floor(min([first_step.min(), last_step.min()]).values)\n",
    "max_val = np.ceil(max([first_step.max(), last_step.max()]).values)"
   ]
  },
  {
   "cell_type": "markdown",
   "metadata": {},
   "source": [
    "## Making the Plot\n",
    "Due to Jupyter Notebook limitations, the entire plot must be made in the same block. These are the general steps:\n",
    "\n",
    "### Create the figure\n",
    "\n",
    "We are using `matplotlib` and `cartopy` to make two plots on the same figure. We need to create the figure and specify our map projection before we can create the two subplots.\n",
    "\n",
    "### Format and populate subplots\n",
    "\n",
    "Once that's done, we need to format and populate the subplots. The for loop below ensures that both sets of axes are created with the same specifications. Most importantly, it makes sure that both plots are drawn with the same `levels` keyword for `contourf`. This keyword is what specifies how the colors are assigned to values. As long as `levels` is the same between contour plots, the images will be useful for making accurate comparisions.\n",
    "\n",
    "### Making the colorbar\n",
    "\n",
    "`contourf` returns a `QuadContourSet` object. This holds the information about how colors are assigned to values and where the contours are drawn. Since both plots were made with the same parameters, the returned objects are identical. Either can be passed into `plt.colorbar`.\n",
    "\n",
    "To make the colorbar appear below both plots, the `ax` parameter must be set to the lower axes `ax2`. Then `orientation` is set to `'horizontal'`. Additional [keyword arguments](https://matplotlib.org/stable/api/_as_gen/matplotlib.pyplot.colorbar.html#matplotlib.pyplot.colorbar) can be passed in to `plt.colorbar` to further customize its appearance."
   ]
  },
  {
   "cell_type": "code",
   "execution_count": null,
   "metadata": {},
   "outputs": [],
   "source": [
    "fig = plt.figure(figsize=(24, 8), constrained_layout=True)\n",
    "proj = ccrs.PlateCarree()\n",
    "ax1 = fig.add_subplot(2,1,1, projection=proj)\n",
    "ax2 = fig.add_subplot(2,1,2, projection=proj)\n",
    "\n",
    "for ax, data in [[ax1, first_step], [ax2, last_step]]:\n",
    "    # Use geocat.viz.util convenience function to set axes tick values\n",
    "    gv.set_axes_limits_and_ticks(ax=ax,\n",
    "                                 xlim=(-180, 180),\n",
    "                                 ylim=(-90, 90),\n",
    "                                 xticks=np.linspace(-180, 180, 13),\n",
    "                                 yticks=np.linspace(-90, 90, 7))\n",
    "\n",
    "    # Use geocat.viz.util convenience function to make plots look like NCL\n",
    "    # plots by using latitude, longitude tick labels\n",
    "    gv.add_lat_lon_ticklabels(ax)\n",
    "\n",
    "    # Remove the degree symbol from tick labels\n",
    "    ax.yaxis.set_major_formatter(LatitudeFormatter(degree_symbol=''))\n",
    "    ax.xaxis.set_major_formatter(LongitudeFormatter(degree_symbol=''))\n",
    "\n",
    "    # Use geocat.viz.util convenience function to add minor and major ticks\n",
    "    gv.add_major_minor_ticks(ax)\n",
    "\n",
    "    # Draw coastlines\n",
    "    ax.coastlines(linewidth=0.5)\n",
    "\n",
    "    # Use geocat.viz.util convenience function to set titles\n",
    "    gv.set_titles_and_labels(ax,\n",
    "                             maintitle=data.time.values,\n",
    "                             lefttitle='TS',\n",
    "                             righttitle='K',\n",
    "                             maintitlefontsize=12,\n",
    "                             lefttitlefontsize=10,\n",
    "                             righttitlefontsize=10)\n",
    "    mappable = ax.contourf(data['lon'], data['lat'], data.data, cmap='inferno', levels=np.linspace(min_val, max_val, 10))\n",
    "    \n",
    "cbar = fig.colorbar(mappable, ax=ax2, orientation='horizontal', aspect=13)"
   ]
  },
  {
   "cell_type": "markdown",
   "metadata": {},
   "source": [
    "## Last Section\n",
    "\n",
    "If you're comfortable, and as we briefly used for our embedded logo up top, you can embed raw html into Jupyter Markdown cells (edit to see):"
   ]
  },
  {
   "cell_type": "markdown",
   "metadata": {},
   "source": [
    "<div class=\"admonition alert alert-info\">\n",
    "    <p class=\"admonition-title\" style=\"font-weight:bold\">Info</p>\n",
    "    Your relevant information here!\n",
    "</div>"
   ]
  },
  {
   "cell_type": "markdown",
   "metadata": {},
   "source": [
    "Feel free to copy this around and edit or play around with yourself. Some other `admonitions` you can put in:"
   ]
  },
  {
   "cell_type": "markdown",
   "metadata": {},
   "source": [
    "<div class=\"admonition alert alert-success\">\n",
    "    <p class=\"admonition-title\" style=\"font-weight:bold\">Success</p>\n",
    "    We got this done after all!\n",
    "</div>"
   ]
  },
  {
   "cell_type": "markdown",
   "metadata": {},
   "source": [
    "<div class=\"admonition alert alert-warning\">\n",
    "    <p class=\"admonition-title\" style=\"font-weight:bold\">Warning</p>\n",
    "    Be careful!\n",
    "</div>"
   ]
  },
  {
   "cell_type": "markdown",
   "metadata": {},
   "source": [
    "<div class=\"admonition alert alert-danger\">\n",
    "    <p class=\"admonition-title\" style=\"font-weight:bold\">Danger</p>\n",
    "    Scary stuff be here.\n",
    "</div>"
   ]
  },
  {
   "cell_type": "markdown",
   "metadata": {},
   "source": [
    "We also suggest checking out Jupyter Book's [brief demonstration](https://jupyterbook.org/content/metadata.html#jupyter-cell-tags) on adding cell tags to your cells in Jupyter Notebook, Lab, or manually. Using these cell tags can allow you to [customize](https://jupyterbook.org/interactive/hiding.html) how your code content is displayed and even [demonstrate errors](https://jupyterbook.org/content/execute.html#dealing-with-code-that-raises-errors) without altogether crashing our loyal army of machines!"
   ]
  },
  {
   "cell_type": "markdown",
   "metadata": {},
   "source": [
    "---"
   ]
  },
  {
   "cell_type": "markdown",
   "metadata": {},
   "source": [
    "## Summary\n",
    "Add one final `---` marking the end of your body of content, and then conclude with a brief single paragraph summarizing at a high level the key pieces that were learned and how they tied to your objectives. Look to reiterate what the most important takeaways were.\n",
    "\n",
    "### What's next?\n",
    "Let Jupyter book tie this to the next (sequential) piece of content that people could move on to down below and in the sidebar. However, if this page uniquely enables your reader to tackle other nonsequential concepts throughout this book, or even external content, link to it here!"
   ]
  },
  {
   "cell_type": "markdown",
   "metadata": {},
   "source": [
    "## Resources and references\n",
    "Finally, be rigorous in your citations and references as necessary. Give credit where credit is due. Also, feel free to link to relevant external material, further reading, documentation, etc. Then you're done! Give yourself a quick review, a high five, and send us a pull request. A few final notes:\n",
    " - `Kernel > Restart Kernel and Run All Cells...` to confirm that your notebook will cleanly run from start to finish\n",
    " - `Kernel > Restart Kernel and Clear All Outputs...` before committing your notebook, our machines will do the heavy lifting\n",
    " - Take credit! Provide author contact information if you'd like; if so, consider adding information here at the bottom of your notebook\n",
    " - Give credit! Attribute appropriate authorship for referenced code, information, images, etc.\n",
    " - Only include what you're legally allowed: **no copyright infringement or plagiarism**\n",
    " \n",
    "Thank you for your contribution!\n",
    "\n",
    "\n",
    "Visualization & Analysis Systems Technologies. (2020). Geoscience Community Analysis Toolkit: GeoCAT-datafiles [Software]. Boulder, CO: UCAR/NCAR - Computational and Informational System Lab. [doi:10.5281/zenodo.6684782](doi:10.5281/zenodo.6684782)."
   ]
  },
  {
   "cell_type": "code",
   "execution_count": null,
   "metadata": {},
   "outputs": [],
   "source": []
  }
 ],
 "metadata": {
  "kernelspec": {
   "display_name": "Python 3 (ipykernel)",
   "language": "python",
   "name": "python3"
  },
  "language_info": {
   "codemirror_mode": {
    "name": "ipython",
    "version": 3
   },
   "file_extension": ".py",
   "mimetype": "text/x-python",
   "name": "python",
   "nbconvert_exporter": "python",
   "pygments_lexer": "ipython3",
   "version": "3.10.5"
  },
  "nbdime-conflicts": {
   "local_diff": [
    {
     "diff": [
      {
       "diff": [
        {
         "key": 0,
         "op": "addrange",
         "valuelist": [
          "Python 3"
         ]
        },
        {
         "key": 0,
         "length": 1,
         "op": "removerange"
        }
       ],
       "key": "display_name",
       "op": "patch"
      }
     ],
     "key": "kernelspec",
     "op": "patch"
    }
   ],
   "remote_diff": [
    {
     "diff": [
      {
       "diff": [
        {
         "key": 0,
         "op": "addrange",
         "valuelist": [
          "Python3"
         ]
        },
        {
         "key": 0,
         "length": 1,
         "op": "removerange"
        }
       ],
       "key": "display_name",
       "op": "patch"
      }
     ],
     "key": "kernelspec",
     "op": "patch"
    }
   ]
  },
  "toc-autonumbering": false
 },
 "nbformat": 4,
 "nbformat_minor": 4
}
